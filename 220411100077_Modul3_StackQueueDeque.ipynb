{
 "cells": [
  {
   "cell_type": "markdown",
   "id": "05eeb1b0",
   "metadata": {},
   "source": [
    "# 1 Konsep\n",
    "Tulis ringkasan atau penjelasan hal-hal berikut, dengan kata-kata kalian sendiri mengenai, Konsep struktur\n",
    "data Queue dan Deque, operasi-operasi yang terdapat pada Queue dan Deque, dan implementasi operasi-operasi Queue dan Deque tersebut dengan bahasa Pemrograman Python.\n"
   ]
  },
  {
   "cell_type": "markdown",
   "id": "96a4ebee",
   "metadata": {},
   "source": [
    "# Jawaban\n",
    "**Queue** merupakan struktur data yang penambahan datanya dilakukan pada rear sedangkan penghapusan datanya berada di front. konsep ini dinamakan FIFO(Frist In Frist Out) jadi data yang masuk pertama kali akan keluar/dihapus terlebih dahulu. contoh nya:\n",
    "````\n",
    "|25|26|64|28|54|30| => Sedangkan ini merupakan bagian rear\n",
    " ||\n",
    " \\/\n",
    "Ini merupakan\n",
    "bagian front\n",
    "````\n",
    "**Deque** merupakan penambahan data baru dan\n",
    "penghapusan dilakukan pada ujung yang sama, yaitu top, sedangkan pada queues, penambahan\n",
    "data baru dan penghapusan dilakukan pada ujung yang berbeda, yaitu rear(penambahan data)\n",
    "dan front(penghapusan data). Maka struktur data deques dapat dilakukan di kedua ujung, seperti\n",
    "halnya queues, hanya terdapat sedikit perbedaan. \n",
    "penambahan data dapat dilakukan pada kedua ujung, baik front maupun rear. Begitu juga halnya\n",
    "dengan penghapusan data yang dapat dilakukan pada front maupun rear.\n",
    "\n",
    "**Oprasi yang terdapat pada queue**\n",
    "````\n",
    "- queue (), inisialisasi struktur data queue kosong\n",
    "- enqueue (data), penambahan data baru pada queue\n",
    "- dequeue (), penghapusan data \n",
    "- isEmpty(), pengecekan apakah queue dalam keadaan kosong\n",
    "- size (), informasi jumlah data yang terdapat pada queue\n",
    "\n",
    "````\n",
    "**Oprasi yang terdapat pada Deques**\n",
    "````\n",
    "- deque (), inisialisasi struktur data deque kosong\n",
    "- addFront (data), penambahan data baru di ujung front pada deque\n",
    "- addRear (data), penambahan data baru di ujung rear pada deque\n",
    "- removeRear (), penghapusan data pada ujung rear\n",
    "- removeFront (), penghapusan data pada ujung front\n",
    "- isEmpty(), pengecekan apakah deque dalam keadaan kosong\n",
    "- size (), informasi jumlah data yang terdapat pada deque\n",
    "\n",
    "````\n"
   ]
  },
  {
   "cell_type": "code",
   "execution_count": 198,
   "id": "8e1821b6",
   "metadata": {},
   "outputs": [],
   "source": [
    "#Implementasi Queue\n",
    "\n",
    "def createQueue():\n",
    "    q=[]\n",
    "    return (q)\n",
    "def enqueue(q,data):\n",
    "    q.insert(0,data)\n",
    "    return(q)\n",
    "def dequeue(q):\n",
    "    data=q.pop()\n",
    "    return(data)\n",
    "def isEmpty(q):\n",
    "    return (q==[])\n",
    "def size(q):\n",
    "    return (len(q))\n",
    "\n",
    "\n",
    "#Implementasi Deques\n",
    "\n",
    "def createDeque():\n",
    "    d=[]\n",
    "    return (d)\n",
    "def addFront(d,data):\n",
    "    d.insert(0,data)\n",
    "    return(d)\n",
    "def addRear(d,data):\n",
    "    d.append(data)\n",
    "    return(d)\n",
    "def removeRear(d):\n",
    "    data=d.pop()\n",
    "    return(data)\n",
    "def removeFront(d):\n",
    "    data=d.pop(0)\n",
    "    return(data)\n",
    "def isEmpty(d):\n",
    "    return (d==[])\n",
    "def size(d):\n",
    "    return (len(d))\n"
   ]
  },
  {
   "cell_type": "markdown",
   "id": "9a5b1cd3",
   "metadata": {},
   "source": [
    "# 2 Implementasi\n",
    "## 2.1 Konversi Infix ke Postfix\n",
    "Buatlah Fungsi dan code yang diperlukan untuk mengkonversi ekspressi aritmatika infix menjadi ekspresi\n",
    "aritmatika postfix, dengan menggunakan struktur data stack, dengan output seperti yang ditunjukkan pada\n",
    "Gambar 4 (terdapat visualisasi token yang dibaca dan isi dari stack).\n"
   ]
  },
  {
   "cell_type": "code",
   "execution_count": 26,
   "id": "558e4768",
   "metadata": {},
   "outputs": [],
   "source": [
    "# Jawaban\n",
    "# fungsi-fungsi yang dibutuhkan untuk mengimplementasikan stacks\n",
    "def stack():\n",
    "    s=[]\n",
    "    return (s)\n",
    "def push(s,data):\n",
    "    s.append(data)\n",
    "def pop(s):\n",
    "    data=s.pop()\n",
    "    return (data)\n",
    "def peek(s):\n",
    "    return (s[len(s)-1])\n",
    "def isEmpty(s):\n",
    "    return(s==[])\n",
    "def size (s):\n",
    "    return(len(s))"
   ]
  },
  {
   "cell_type": "code",
   "execution_count": 42,
   "id": "77f3a113",
   "metadata": {},
   "outputs": [],
   "source": [
    "def inf2Post (file):\n",
    "    operator = {\"*\":1,\"/\":1,\"+\":0,\"-\":0}\n",
    "    stack_blank=stack()\n",
    "    result=\"\"\n",
    "    count=1\n",
    "    for i in file:\n",
    "        print(f\"read token-{count} :{i}\")\n",
    "        count+=1\n",
    "        if i not in operator and i not in \"(\" and i not in \")\":\n",
    "            result+=i\n",
    "        elif i == \"(\":\n",
    "            push(stack_blank,i)\n",
    "           \n",
    "        elif i == \")\":\n",
    "            while peek(stack_blank) != \"(\":\n",
    "                result+=pop(stack_blank)\n",
    "            pop(stack_blank)\n",
    "        elif i in operator.keys():\n",
    "            while not(isEmpty(stack_blank)) and peek(stack_blank) != \"(\" and operator[peek(stack_blank)] >= operator[i]:\n",
    "                result+=pop(stack_blank)\n",
    "            push(stack_blank,i)\n",
    "        print(\"stack\",stack_blank)\n",
    "        print(\"\")\n",
    "    while not(isEmpty(stack_blank)):\n",
    "        result+=pop(stack_blank)\n",
    "    return result"
   ]
  },
  {
   "cell_type": "code",
   "execution_count": 44,
   "id": "da7456ac",
   "metadata": {},
   "outputs": [
    {
     "name": "stdout",
     "output_type": "stream",
     "text": [
      "read token-1 :(\n",
      "stack ['(']\n",
      "\n",
      "read token-2 :A\n",
      "stack ['(']\n",
      "\n",
      "read token-3 :*\n",
      "stack ['(', '*']\n",
      "\n",
      "read token-4 :(\n",
      "stack ['(', '*', '(']\n",
      "\n",
      "read token-5 :B\n",
      "stack ['(', '*', '(']\n",
      "\n",
      "read token-6 :+\n",
      "stack ['(', '*', '(', '+']\n",
      "\n",
      "read token-7 :C\n",
      "stack ['(', '*', '(', '+']\n",
      "\n",
      "read token-8 :)\n",
      "stack ['(', '*']\n",
      "\n",
      "read token-9 :)\n",
      "stack []\n",
      "\n",
      "read token-10 :-\n",
      "stack ['-']\n",
      "\n",
      "read token-11 :D\n",
      "stack ['-']\n",
      "\n",
      "(A*(B+C))-D :  ABC+*D-\n"
     ]
    }
   ],
   "source": [
    "print(\"(A*(B+C))-D : \",inf2Post(\"(A*(B+C))-D\")) "
   ]
  },
  {
   "cell_type": "markdown",
   "id": "7e5a90a8",
   "metadata": {},
   "source": [
    "## 2.2 Evaluasi Postfix\n",
    "Buatlah Fungsi dan code yang diperlukan untuk evaluasi ekspresi aritmatika postfix, dengan menggunakan\n",
    "struktur data stack, dengan output seperti yang ditunjukkan pada Gambar 2 (terdapat visualisasi operasi\n",
    "matematika yang dikerjakan tiap tahap)."
   ]
  },
  {
   "cell_type": "code",
   "execution_count": 6,
   "id": "309274eb",
   "metadata": {},
   "outputs": [],
   "source": [
    "# Jawaban\n",
    "# fungsi-fungsi yang dibutuhkan untuk mengimplementasikan stacks\n",
    "def stack():\n",
    "    s=[]\n",
    "    return (s)\n",
    "def push(s,data):\n",
    "    s.append(data)\n",
    "def pop(s):\n",
    "    data=s.pop()\n",
    "    return (data)\n",
    "def peek(s):\n",
    "    return (s[len(s)-1])\n",
    "def isEmpty(s):\n",
    "    return(s==[])\n",
    "def size (s):\n",
    "    return(len(s))"
   ]
  },
  {
   "cell_type": "code",
   "execution_count": 22,
   "id": "89b8ffad",
   "metadata": {},
   "outputs": [],
   "source": [
    "def evaluatePost(postStr):\n",
    "    operandStack=stack()\n",
    "    operator='+-/*'\n",
    "    postStr=postStr.split()\n",
    "    temp=1\n",
    "    for i in postStr:\n",
    "        if i not in operator:\n",
    "            push(operandStack,i)\n",
    "    \n",
    "        else:\n",
    "            oprnd2=pop(operandStack)\n",
    "            oprnd1=pop(operandStack)\n",
    "            if i=='+':\n",
    "                result=float(oprnd1)+float(oprnd2)\n",
    "                print (f\"{[temp]}: {float(oprnd1)} + {float(oprnd2)} = {result}\")\n",
    "            elif i=='-':\n",
    "                result=float(oprnd1)-float(oprnd2)\n",
    "                print (f\"{[temp]}: {float(oprnd1)} - {float(oprnd2)} = {result}\")\n",
    "            elif i=='*':\n",
    "                result=float(oprnd1)*float(oprnd2)\n",
    "                print (f\"{[temp]}: {float(oprnd1)} * {float(oprnd2)} = {result}\")\n",
    "            elif i == \"/\":\n",
    "                result=float(oprnd1)/float(oprnd2)\n",
    "                print (f\"{[temp]}: {float(oprnd1)} / {float(oprnd2)} = {result}\")\n",
    "            temp+=1\n",
    "            push(operandStack,result)\n",
    "    return(pop(operandStack))        "
   ]
  },
  {
   "cell_type": "code",
   "execution_count": 24,
   "id": "2b629d69",
   "metadata": {},
   "outputs": [
    {
     "name": "stdout",
     "output_type": "stream",
     "text": [
      "[1]: 2.0 + 3.0 = 5.0\n",
      "[2]: 10.0 * 5.0 = 50.0\n",
      "[3]: 50.0 - 4.0 = 46.0\n",
      "46.0\n"
     ]
    }
   ],
   "source": [
    "print(evaluatePost(\"10 2 3 + * 4 -\"))"
   ]
  },
  {
   "cell_type": "markdown",
   "id": "40a996d6",
   "metadata": {},
   "source": [
    "## 2.3 Palindrome\n",
    "Buatlah fungsi dan code yang diperlukan untuk pengecekan palindrome suatu kata atau kalimat, dengan\n",
    "menggunakan struktur data Deque, dengan output seperti yang ditunjukkan pada Gambar 3"
   ]
  },
  {
   "cell_type": "code",
   "execution_count": 47,
   "id": "02f376e4",
   "metadata": {},
   "outputs": [],
   "source": [
    "# Jawaban\n",
    "def createDeque():\n",
    "    d=[]\n",
    "    return (d)\n",
    "def addFront(d,data):\n",
    "    d.insert(0,data)\n",
    "    return(d)\n",
    "def addRear(d,data):\n",
    "    d.append(data)\n",
    "    return(d)\n",
    "def removeRear(d):\n",
    "    data=d.pop()\n",
    "    return(data)\n",
    "def removeFront(d):\n",
    "    data=d.pop(0)\n",
    "    return(data)\n",
    "def isEmpty(d):\n",
    "    return (d==[])\n",
    "def size(d):\n",
    "    return (len(d))"
   ]
  },
  {
   "cell_type": "code",
   "execution_count": 87,
   "id": "b3b7d3c1",
   "metadata": {},
   "outputs": [],
   "source": [
    "def cekPalindrom(datStr):\n",
    "    palindrom=createDeque()\n",
    "    for letter in datStr:\n",
    "        addRear(palindrom,letter)\n",
    "        \n",
    "    cek=True\n",
    "    while size(palindrom)>1:\n",
    "        a=removeRear(palindrom)\n",
    "        b=removeFront(palindrom)\n",
    "        if (a==b):\n",
    "            cek=cek and True\n",
    "        else:\n",
    "            cek=cek and False\n",
    "        print(f\"frond and rear --> '{a}' == '{b}' ? : {cek}\")\n",
    "        \n",
    "\n",
    "    return cek"
   ]
  },
  {
   "cell_type": "code",
   "execution_count": 93,
   "id": "5d4bf470",
   "metadata": {},
   "outputs": [
    {
     "name": "stdout",
     "output_type": "stream",
     "text": [
      "frond and rear --> 'k' == 'k' ? : True\n",
      "frond and rear --> 'a' == 'a' ? : True\n",
      "True\n"
     ]
    }
   ],
   "source": [
    "print(cekPalindrom(\"katak\"))"
   ]
  },
  {
   "cell_type": "markdown",
   "id": "e4c87b09",
   "metadata": {},
   "source": [
    "## 2.4 Scheduling / Penjadwalan\n",
    "Terdapat proses penjadwalan CPU (resource sharing). Pada penjadwalan CPU terdapat beberapa proses\n",
    "sebagai berikut :\n",
    "- Semua task masuk kedalam antrian, setiap task ini terdapat atribut waktu yang dibutuhkan masing-masing task untuk menggunakan CPU. Misalkan task A membutuhkan waktu untuk diproses di CPU selama 7 detik\n",
    "- Task yang berada di posisi paling depan dari antrian, mendapat kesempatan pertama untuk diproses ke dalam CPU\n",
    "- CPU memiliki atribut waktu, yaitu semua task hanya boleh menggunakan CPU selama waktu tertentu. Misalkan waktu CPU adalah 3 detik, maka semua task hanya boleh mengakses/menggunakan waktu CPU 3 detik saja\n",
    "      - Jika suatu task membutuhkan waktu lebih dari waktu CPU, maka task tersebut akan diprosesselama waktu CPU saja, kemudian task akan dikeluarkan dan dimasukkan kembali (posisi rear)ke dalam antrian, agar task tersebut dapat diproses selanjutnya\n",
    "      – Jika task membutuhkan waktu tidak melebih waktu proses CPU, maka task diproses sesuaiwaktu proses task, kemudian dikeluarkan dari antrian, yang berarti task tersebut telah selesai diproses oleh CPU. \n",
    "Buatlah ilustrasi penjadwalan CPU tersebut dengan menggunakan modul queue yang telah dibuat sebelumnya, dengan ketentuan sebagai berikut :\n",
    "1. Input berupa jumlah *task* atau proses yang akan diproses pada CPU\n",
    "2. Nama proses, beserta atribut waktu yang dibutuhkan masing-masing proses untuk menggunakan CPU\n",
    "3. Waktu proses CPU\n",
    "\n",
    "\n",
    "Contoh ilustrasi penjadwalan CPU dapat dilihat pada Gambar 4 HashtagVideo : Modul4 SchedulingQueue\n",
    "dan PraktikumStrukturData KelasX"
   ]
  },
  {
   "cell_type": "code",
   "execution_count": 183,
   "id": "4d5b68e2",
   "metadata": {},
   "outputs": [],
   "source": [
    "def createQueue():\n",
    "    q=[]\n",
    "    return (q)\n",
    "def enqueue(q,data):\n",
    "    q.insert(0,data)\n",
    "    return(q)\n",
    "def dequeue(q):\n",
    "    data=q.pop()\n",
    "    return(data)\n",
    "def isEmpty(q):\n",
    "    return (q==[])\n",
    "def size(q):\n",
    "    return (len(q))"
   ]
  },
  {
   "cell_type": "code",
   "execution_count": 195,
   "id": "ac7cb447",
   "metadata": {},
   "outputs": [],
   "source": [
    "def scheduling (limitTime):\n",
    "    task_Dat = createQueue()\n",
    "    task_Total = int(input(\"Masukkan proses yang akan dijadwalkan CPU =\"))\n",
    "    \n",
    "    for r in range(task_Total):\n",
    "        task_Nama=input(f\"Nama Proses ke-{r}: \")\n",
    "        task_Time=int(input(\"waktu Proses :\"))\n",
    "        enqueue(task_Dat,[task_Nama,task_Time])\n",
    "        \n",
    "    print(f\"\"\"\n",
    "Antrian Proses :\n",
    "{task_Dat}  \n",
    "\"\"\")\n",
    "        \n",
    "    print(f\"\"\"\n",
    "Waktu Proses CPU= {limitTime}\n",
    "Antrian Proses beserta waktunya= {task_Dat}\"\"\")\n",
    "    iterasion=1\n",
    "    while not(isEmpty(task_Dat)):\n",
    "        print(f\"iterasi ke-{iterasion}\")\n",
    "        iterasion+=1\n",
    "        task_sekarang= dequeue(task_Dat)\n",
    "        templimit=limitTime\n",
    "        \n",
    "        while task_sekarang[1] > 0 and templimit > 0:\n",
    "            task_sekarang[1]-=1\n",
    "            templimit-=1\n",
    "            \n",
    "        if task_sekarang[1]>0:\n",
    "            print(\"    \"f\"Proses {task_sekarang[0]} sedang di proses dan sisa waktu proses {task_sekarang[0]} = {task_sekarang[1]}\")\n",
    "            enqueue(task_Dat,task_sekarang)\n",
    "            \n",
    "        else:\n",
    "            print(\"    \"f\"Proses {task_sekarang[0]} telah selesai di proses\")\n",
    "            \n",
    "        print(\"Data proses yang tersisa\",task_Dat)\n",
    "    "
   ]
  },
  {
   "cell_type": "code",
   "execution_count": 197,
   "id": "50df3838",
   "metadata": {},
   "outputs": [
    {
     "name": "stdout",
     "output_type": "stream",
     "text": [
      "Masukkan proses yang akan dijadwalkan CPU =3\n",
      "Nama Proses ke-0: A\n",
      "waktu Proses :5\n",
      "Nama Proses ke-1: B\n",
      "waktu Proses :9\n",
      "Nama Proses ke-2: C\n",
      "waktu Proses :2\n",
      "\n",
      "Antrian Proses :\n",
      "[['C', 2], ['B', 9], ['A', 5]]  \n",
      "\n",
      "\n",
      "Waktu Proses CPU= 3\n",
      "Antrian Proses beserta waktunya= [['C', 2], ['B', 9], ['A', 5]]\n",
      "iterasi ke-1\n",
      "    Proses A sedang di proses dan sisa waktu proses A = 2\n",
      "Data proses yang tersisa [['A', 2], ['C', 2], ['B', 9]]\n",
      "iterasi ke-2\n",
      "    Proses B sedang di proses dan sisa waktu proses B = 6\n",
      "Data proses yang tersisa [['B', 6], ['A', 2], ['C', 2]]\n",
      "iterasi ke-3\n",
      "    Proses C telah selesai di proses\n",
      "Data proses yang tersisa [['B', 6], ['A', 2]]\n",
      "iterasi ke-4\n",
      "    Proses A telah selesai di proses\n",
      "Data proses yang tersisa [['B', 6]]\n",
      "iterasi ke-5\n",
      "    Proses B sedang di proses dan sisa waktu proses B = 3\n",
      "Data proses yang tersisa [['B', 3]]\n",
      "iterasi ke-6\n",
      "    Proses B telah selesai di proses\n",
      "Data proses yang tersisa []\n"
     ]
    }
   ],
   "source": [
    "scheduling(3)"
   ]
  }
 ],
 "metadata": {
  "kernelspec": {
   "display_name": "Python 3 (ipykernel)",
   "language": "python",
   "name": "python3"
  },
  "language_info": {
   "codemirror_mode": {
    "name": "ipython",
    "version": 3
   },
   "file_extension": ".py",
   "mimetype": "text/x-python",
   "name": "python",
   "nbconvert_exporter": "python",
   "pygments_lexer": "ipython3",
   "version": "3.9.12"
  }
 },
 "nbformat": 4,
 "nbformat_minor": 5
}
