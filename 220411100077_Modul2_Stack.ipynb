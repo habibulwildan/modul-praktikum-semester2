{
 "cells": [
  {
   "cell_type": "markdown",
   "id": "5fb918d4",
   "metadata": {},
   "source": [
    "#  1 Konsep\n",
    "Tulis ringkasan atau penjelasan hal-hal berikut, dengan kata-kata kalian sendiri mengenai, Konsep struktur data Stack, operasi-operasi yang terdapat pada stack, dan implementasi operasi-operasi stack tersebut\n",
    "dengan bahasa Pemrograman Python."
   ]
  },
  {
   "cell_type": "markdown",
   "id": "27e0e714",
   "metadata": {},
   "source": [
    "# Jawaban\n",
    "**Konsep stacks**\n",
    "- **Stacks** adalah struktur data dimana penambahan dan penghabpusan data, hanya dapat dilakukan pada satu ujung yang **sama**, atau yang bisa dikenal dengan istilah **top**.Semkin dadta jauh berada dari posisi top, maka data tersebut diindikasikan berada di stack lebih lama dibanding dengan data yang berada dekat pada data di posisi top. jika tedapat data baru yang ditambahkan di stack, maka data ini pulah yang akan dihapus ketika terdapat proses penghapusan data,konsep ini bisa disebut dengan konsep **LIFO-Last in First Out** Konsep ini biasanya kita terapkan ketika kita mau mangambil dan menumpuk piring di meja, misal kita sudah mencuci piring lalu piring itu di tumpuk di meja mulai dari tumpukan piring pertama hingga piring ketiga, ketika misalkan ada tamu atau keluarga yang ingin makan nasi dipastikan dia akan mengambil piring yang di tumpukan piring yang paling atas yaitu tumpukkan piring ketiga,jadi tumpukan piring sekarang tinggal duah, lalu kita cucilagi piring dan ditaruh tumpukan ketiga lagi. kurang lebih seperti itu konsep stack dari sepengertian saya.\n",
    "\n",
    "**Oprasi-Oprasi yang terdapat pada stack**\n",
    "- stack (),  inisialisasi stack yang kosong\n",
    "- push(data),penambahan data baru pada posisi top dari stack\n",
    "- pop (),    penghapusan data yang terdapat diposisi top dari stack.return value dari fungsi ini adalah data yang dihapus dari stack tersebut\n",
    "- peek (),   informasi data yang terletak pada posisi top\n",
    "- isEmpty (),untuk memeriksa apakah stack dalam keadaan kosong\n",
    "- sixe(),    informasi jumlah data yang terdapat pada stack\n",
    "\n",
    "**Implementasi Oprasi-Oprasi stack**\n",
    "~~~python\n",
    "def stack ():\n",
    "    s=[]\n",
    "def push(s,data):\n",
    "    s.append(data)\n",
    "def pop (s):\n",
    "    data=s.pop()\n",
    "    return (data)\n",
    "def peek (s):\n",
    "    return (s[len(s)-1])\n",
    "def isEmpty (s):\n",
    "    return (s==[])\n",
    "def size(s):\n",
    "    return (len(s))\n"
   ]
  },
  {
   "cell_type": "markdown",
   "id": "ab0441bf",
   "metadata": {},
   "source": [
    "## 2.2 Parentheses Checking - NPM Ganjil\n",
    "Buatlah Fungsi dan code yang diperlukan untuk pengecekan susunan kurung buka dan tutup pada suatu\n",
    "kalimat matematika, dengan menggunakan struktur data Stack. Tampilkan juga visualisasi stack, seperti\n",
    "yang ditunjukkan pada Gambar 2 dan Gambar 3 ."
   ]
  },
  {
   "cell_type": "code",
   "execution_count": 3,
   "id": "beda8558",
   "metadata": {},
   "outputs": [],
   "source": [
    "# Jawaban\n",
    "# fungsi-fungsi yang dibutuhkan untuk mengimplementasikan stacks\n",
    "def stack():\n",
    "    s=[]\n",
    "    return (s)\n",
    "def push(s,data):\n",
    "    s.append(data)\n",
    "def pop(s):\n",
    "    data=s.pop()\n",
    "    return (data)\n",
    "def peek(s):\n",
    "    return (s[len(s)-1])\n",
    "def isEmpty(s):\n",
    "    return(s==[])\n",
    "def size (s):\n",
    "    return(len(s))"
   ]
  },
  {
   "cell_type": "code",
   "execution_count": 237,
   "id": "401c7ff4",
   "metadata": {},
   "outputs": [],
   "source": [
    "def parenthesesChek(strMath):\n",
    "    kurung={\")\":\"(\",\"}\":\"{\",\"]\":\"[\"}\n",
    "    kurungBuka=kurung.values()\n",
    "    kurungTutup=kurung.keys()\n",
    "    stack_blank=stack()\n",
    "    matched=True\n",
    "    for r in strMath :\n",
    "        print(\"Baca \", '\"',r,'\"')\n",
    "        if r in kurungBuka:\n",
    "            push(stack_blank,r)\n",
    "            \n",
    "        if r in kurungTutup:\n",
    "            if isEmpty(stack_blank):\n",
    "                return \"Kelebihan kurung Tutup ')'\"\n",
    "            else :\n",
    "                stackKurung=pop(stack_blank)\n",
    "                if stackKurung == kurung [r]:\n",
    "                    matched=matched and True\n",
    "                else:\n",
    "                    matched=matched and False\n",
    "        print(\"stack : \")\n",
    "        for visual_stack in stack_blank:\n",
    "            print(\"| \",visual_stack,\" |\")\n",
    "        print(\"-------\")\n",
    "    \n",
    "    if not (isEmpty(stack_blank)):\n",
    "        return \"'('Kelebihan Kurung Buka\"\n",
    "    if matched == True:\n",
    "        return \"Ok\"\n",
    "    else:\n",
    "        return \"'('Tidak Cocok Kurung nya'}'\""
   ]
  },
  {
   "cell_type": "code",
   "execution_count": 238,
   "id": "698a3e33",
   "metadata": {},
   "outputs": [
    {
     "name": "stdout",
     "output_type": "stream",
     "text": [
      "Baca  \" ( \"\n",
      "stack : \n",
      "|  (  |\n",
      "-------\n",
      "Baca  \" [ \"\n",
      "stack : \n",
      "|  (  |\n",
      "|  [  |\n",
      "-------\n",
      "Baca  \" 4 \"\n",
      "stack : \n",
      "|  (  |\n",
      "|  [  |\n",
      "-------\n",
      "Baca  \" + \"\n",
      "stack : \n",
      "|  (  |\n",
      "|  [  |\n",
      "-------\n",
      "Baca  \" 5 \"\n",
      "stack : \n",
      "|  (  |\n",
      "|  [  |\n",
      "-------\n",
      "Baca  \" ] \"\n",
      "stack : \n",
      "|  (  |\n",
      "-------\n",
      "Baca  \" ) \"\n",
      "stack : \n",
      "-------\n",
      "Baca  \" ) \"\n"
     ]
    },
    {
     "data": {
      "text/plain": [
       "\"Kelebihan kurung Tutup ')'\""
      ]
     },
     "execution_count": 238,
     "metadata": {},
     "output_type": "execute_result"
    }
   ],
   "source": [
    "matStr= \"([4+5]))\"\n",
    "parenthesesChek(matStr)"
   ]
  },
  {
   "cell_type": "markdown",
   "id": "5433bbc6",
   "metadata": {},
   "source": [
    "# 3 Implementasi - 2\n",
    "## 3.1 Pengecekan Tag HTML\n",
    "Buatlah fungsi pengecekan tag-tag syntax HTML, dengan ketentuan sebagai berikut :\n",
    "1. Gunakan Modul Stack yang sudah ada\n",
    "2. Input berupa syntax HTML yang terdiri dari beberapa baris. [Petunjuk] Gunakan syntax triple single\n",
    "quotation marks atau triple double quotation marks pada multiline text, dan gunakan method split\n",
    "pada string. Lihat contoh input pada Gambar 4, Gambar 5, Gambar 6.\n",
    "3. return value adalah True(jika sudah memenuhi kaidah tag html), dan False (jika tidak memenuhi\n",
    "kaidah tag html)\n",
    "4. Jika return value adalah False, tampilkan juga kesalahan penulisan html yang telah dibuat, seperti\n",
    "pada Gambar 4, Gambar 5, Gambar 6.\n",
    "\n"
   ]
  },
  {
   "cell_type": "code",
   "execution_count": 239,
   "id": "2f904a7d",
   "metadata": {},
   "outputs": [],
   "source": [
    "# jawaban\n",
    "# fungsi-fungsi yang dibutuhkan untuk mengimplementasikan stacks\n",
    "def stack():\n",
    "    s=[]\n",
    "    return (s)\n",
    "def push(s,data):\n",
    "    s.append(data)\n",
    "def pop(s):\n",
    "    data=s.pop()\n",
    "    return (data)\n",
    "def peek(s):\n",
    "    return (s[len(s)-1])\n",
    "def isEmpty(s):\n",
    "    return(s==[])\n",
    "def size (s):\n",
    "    return(len(s))"
   ]
  },
  {
   "cell_type": "code",
   "execution_count": 240,
   "id": "ebab5cff",
   "metadata": {},
   "outputs": [],
   "source": [
    "def isValidateTagHTML (tagHTML) :\n",
    "    tagSplit=tagHTML.split()\n",
    "    tag_Blank=stack()\n",
    "    result=[\"Eror : \"]\n",
    "    urutan=1\n",
    "    matched_2=True\n",
    "    for i in tagSplit:\n",
    "        print(i)\n",
    "        if \"<\" in i and \"</\" not in i:\n",
    "            push(tag_Blank,i)\n",
    "        elif \"</\" in i:\n",
    "            if isEmpty(tag_Blank):\n",
    "                return matched_2, result + [f'{urutan} Kelebihan Close Tag : {i}']\n",
    "            else:\n",
    "                temp=pop(tag_Blank)\n",
    "                if temp[1:-1].lower() == i[2:-1].lower():\n",
    "                    matched_2 = matched_2 and True\n",
    "                else:\n",
    "                    matched_2 = matched_2 and False\n",
    "                    result.append(f\"{urutan}.Open Tag {i} --> {temp}\")\n",
    "                    urutan+=1\n",
    "                    \n",
    "    if not (isEmpty(tag_Blank)):\n",
    "        return matched_2 , result + [f\"{urutan}.Kelebihan Open Tag : {tag_Blank[0]}\"]\n",
    "    if matched_2 == False:\n",
    "        return matched_2, result + [f\"{urutan}.Tag Tidak sesuai\"]\n",
    "    else:\n",
    "        return matched_2"
   ]
  },
  {
   "cell_type": "code",
   "execution_count": 241,
   "id": "6e216d45",
   "metadata": {
    "scrolled": true
   },
   "outputs": [
    {
     "name": "stdout",
     "output_type": "stream",
     "text": [
      "<html>\n",
      "<body>\n",
      "<title>\n",
      "Praktikum\n",
      "Struktur\n",
      "Data\n",
      "</title>\n",
      "<h1>\n",
      "Stack\n",
      "</h1>\n",
      "<h1>\n",
      "<h2>\n",
      "Implementasi\n",
      "Validator\n",
      "HTML\n",
      "</h2>\n",
      "</body>\n",
      "</html>\n"
     ]
    },
    {
     "data": {
      "text/plain": [
       "(False,\n",
       " ['Eror : ',\n",
       "  '1.Open Tag </body> --> <h1>',\n",
       "  '2.Open Tag </html> --> <body>',\n",
       "  '3.Kelebihan Open Tag : <html>'])"
      ]
     },
     "execution_count": 241,
     "metadata": {},
     "output_type": "execute_result"
    }
   ],
   "source": [
    "inp=\"\"\"\n",
    "<html>\n",
    "<body>\n",
    "<title>\n",
    "Praktikum Struktur Data\n",
    "</title>\n",
    "<h1>\n",
    "Stack\n",
    "</h1>\n",
    "<h1>\n",
    "<h2>\n",
    "Implementasi Validator HTML\n",
    "</h2>\n",
    "</body>\n",
    "</html>\n",
    "\"\"\"\n",
    "isValidateTagHTML(inp)"
   ]
  }
 ],
 "metadata": {
  "kernelspec": {
   "display_name": "Python 3 (ipykernel)",
   "language": "python",
   "name": "python3"
  },
  "language_info": {
   "codemirror_mode": {
    "name": "ipython",
    "version": 3
   },
   "file_extension": ".py",
   "mimetype": "text/x-python",
   "name": "python",
   "nbconvert_exporter": "python",
   "pygments_lexer": "ipython3",
   "version": "3.9.12"
  }
 },
 "nbformat": 4,
 "nbformat_minor": 5
}
